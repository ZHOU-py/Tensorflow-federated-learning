{
  "nbformat": 4,
  "nbformat_minor": 0,
  "metadata": {
    "colab": {
      "name": "Federated_Learning_for_Image_Classification.ipynb",
      "provenance": [],
      "collapsed_sections": [],
      "authorship_tag": "ABX9TyOAgA0XPvJjvtcYaQu9yfxR",
      "include_colab_link": true
    },
    "kernelspec": {
      "name": "python3",
      "display_name": "Python 3"
    }
  },
  "cells": [
    {
      "cell_type": "markdown",
      "metadata": {
        "id": "view-in-github",
        "colab_type": "text"
      },
      "source": [
        "<a href=\"https://colab.research.google.com/github/ZHOU-py/Tensorflow-federated-learning/blob/main/Federated_Learning_for_Image_Classification.ipynb\" target=\"_parent\"><img src=\"https://colab.research.google.com/assets/colab-badge.svg\" alt=\"Open In Colab\"/></a>"
      ]
    },
    {
      "cell_type": "code",
      "metadata": {
        "id": "W0FMQ2jPV1GT",
        "outputId": "c54f9198-051e-4ef1-adba-bf610781ee68",
        "colab": {
          "base_uri": "https://localhost:8080/",
          "height": 292
        }
      },
      "source": [
        "#@test {\"skip\": true}\n",
        "!pip install --quiet --upgrade tensorflow_federated_nightly\n",
        "!pip install --quiet --upgrade nest_asyncio\n",
        "\n",
        "import nest_asyncio\n",
        "nest_asyncio.apply()\n",
        "\n",
        "%reload_ext tensorboard"
      ],
      "execution_count": 1,
      "outputs": [
        {
          "output_type": "stream",
          "text": [
            "\u001b[K     |████████████████████████████████| 522kB 2.8MB/s \n",
            "\u001b[K     |████████████████████████████████| 112kB 15.3MB/s \n",
            "\u001b[K     |████████████████████████████████| 174kB 12.4MB/s \n",
            "\u001b[K     |████████████████████████████████| 1.1MB 12.9MB/s \n",
            "\u001b[K     |████████████████████████████████| 3.0MB 15.7MB/s \n",
            "\u001b[K     |████████████████████████████████| 394.2MB 36kB/s \n",
            "\u001b[K     |████████████████████████████████| 153kB 50.3MB/s \n",
            "\u001b[K     |████████████████████████████████| 10.6MB 44.7MB/s \n",
            "\u001b[K     |████████████████████████████████| 471kB 41.7MB/s \n",
            "\u001b[K     |████████████████████████████████| 1.3MB 43.9MB/s \n",
            "\u001b[?25h  Building wheel for absl-py (setup.py) ... \u001b[?25l\u001b[?25hdone\n",
            "\u001b[31mERROR: datascience 0.10.6 has requirement folium==0.2.1, but you'll have folium 0.8.3 which is incompatible.\u001b[0m\n",
            "\u001b[31mERROR: tf-nightly 2.5.0.dev20201024 has requirement absl-py~=0.10, but you'll have absl-py 0.9.0 which is incompatible.\u001b[0m\n",
            "\u001b[31mERROR: tf-nightly 2.5.0.dev20201024 has requirement grpcio~=1.32.0, but you'll have grpcio 1.29.0 which is incompatible.\u001b[0m\n",
            "\u001b[31mERROR: tf-nightly 2.5.0.dev20201024 has requirement numpy~=1.19.2, but you'll have numpy 1.18.5 which is incompatible.\u001b[0m\n"
          ],
          "name": "stdout"
        }
      ]
    },
    {
      "cell_type": "markdown",
      "metadata": {
        "id": "kabw00SucX66"
      },
      "source": [
        "#### Federated Learning with TensorFlow: Load Decentralized MNIST Dataset"
      ]
    },
    {
      "cell_type": "code",
      "metadata": {
        "id": "yURGUnOAXLXQ",
        "outputId": "4c004cae-11e8-43be-e484-30b4bfb0685f",
        "colab": {
          "base_uri": "https://localhost:8080/",
          "height": 105
        }
      },
      "source": [
        "# Federated_learning_for_image_classificaiton\n",
        "# Samplified, added an example of random client sampling\n",
        "\n",
        "import collections\n",
        "import numpy as np\n",
        "np.random.seed(0)\n",
        "\n",
        "import tensorflow as tf\n",
        "from tensorflow.python.keras.optimizer_v2 import gradient_descent\n",
        "import tensorflow_federated as tff\n",
        "from random import choices\n",
        "\n",
        "NUM_EPOCHS = 5\n",
        "BATCH_SIZE = 20\n",
        "SHUFFLE_BUFFER = 500\n",
        "NUM_CLIENTS = 3\n",
        "\n",
        "tf.compat.v1.enable_v2_behavior()\n",
        "# loading simulation data\n",
        "emnist_train, emnist_test = tff.simulation.datasets.emnist.load_data()\n",
        "def preprocess(dataset):\n",
        "  def element_fn(element):\n",
        "    return collections.OrderedDict([\n",
        "                                    ('x',tf.reshape(element['pixels'],[-1])),\n",
        "                                    ('y',tf.reshape(element['label'],[1])),\n",
        "                                    ])\n",
        "    \n",
        "  return dataset.repeat(NUM_EPOCHS).map(element_fn).shuffle(\n",
        "      SHUFFLE_BUFFER).batch(BATCH_SIZE)\n",
        "\n",
        "\n",
        "def make_federated_data(client_data,client_ids):\n",
        "  return [preprocess(client_data.create_tf_dataset_for_client(x))\n",
        "          for x in client_ids]\n",
        "\n",
        "sample_clients = emnist_train.client_ids[0:NUM_CLIENTS]\n",
        "federated_train_data = make_federated_data(emnist_train, sample_clients)\n",
        "\n",
        "sample_clients_test = emnist_test.client_ids[0:NUM_CLIENTS]\n",
        "federated_test_data = make_federated_data(emnist_test, sample_clients_test)\n",
        "\n",
        "# This is only needed to create the \"federated\" ver of the model\n",
        "sample_batch = iter(federated_train_data[0]).next()\n",
        "sample_batch = collections.OrderedDict([\n",
        "                                        ('x',sample_batch['x'].numpy()),\n",
        "                                        ('y',sample_batch['y'].numpy()),\n",
        "])\n"
      ],
      "execution_count": 2,
      "outputs": [
        {
          "output_type": "stream",
          "text": [
            "/usr/local/lib/python3.6/dist-packages/tensorflow_addons/utils/ensure_tf_install.py:43: UserWarning: You are currently using a nightly version of TensorFlow (2.5.0-dev20201024). \n",
            "TensorFlow Addons offers no support for the nightly versions of TensorFlow. Some things might work, some other might not. \n",
            "If you encounter a bug, do not file an issue on GitHub.\n",
            "  UserWarning,\n"
          ],
          "name": "stderr"
        }
      ]
    },
    {
      "cell_type": "markdown",
      "metadata": {
        "id": "VbzK2znDctrr"
      },
      "source": [
        "#### Prepare Dataset"
      ]
    },
    {
      "cell_type": "code",
      "metadata": {
        "id": "1UszQSqQc2U3"
      },
      "source": [
        "emnist_train, emnist_test = tff.simulation.datasets.emnist.load_data()"
      ],
      "execution_count": 7,
      "outputs": []
    },
    {
      "cell_type": "code",
      "metadata": {
        "id": "_OEVDkMSdBLu",
        "outputId": "0ce5cbf5-8965-47e9-81c9-65431f41d2cd",
        "colab": {
          "base_uri": "https://localhost:8080/",
          "height": 34
        }
      },
      "source": [
        "len(emnist_train.client_ids)"
      ],
      "execution_count": 8,
      "outputs": [
        {
          "output_type": "execute_result",
          "data": {
            "text/plain": [
              "3383"
            ]
          },
          "metadata": {
            "tags": []
          },
          "execution_count": 8
        }
      ]
    },
    {
      "cell_type": "code",
      "metadata": {
        "id": "RMgk85wUdGP1",
        "outputId": "459a3c73-d2ae-4849-aed7-bdf9117e6966",
        "colab": {
          "base_uri": "https://localhost:8080/",
          "height": 68
        }
      },
      "source": [
        "emnist_train.element_type_structure"
      ],
      "execution_count": 9,
      "outputs": [
        {
          "output_type": "execute_result",
          "data": {
            "text/plain": [
              "OrderedDict([('label', TensorSpec(shape=(), dtype=tf.int32, name=None)),\n",
              "             ('pixels',\n",
              "              TensorSpec(shape=(28, 28), dtype=tf.float32, name=None))])"
            ]
          },
          "metadata": {
            "tags": []
          },
          "execution_count": 9
        }
      ]
    },
    {
      "cell_type": "code",
      "metadata": {
        "id": "ugi1fwjvdJ-0",
        "outputId": "ddb6c25e-bcba-4f81-c728-04b835cb1145",
        "colab": {
          "base_uri": "https://localhost:8080/",
          "height": 34
        }
      },
      "source": [
        "example_dataset = emnist_train.create_tf_dataset_for_client(\n",
        "    emnist_train.client_ids[0])\n",
        "\n",
        "example_element = next(iter(example_dataset))\n",
        "example_element['label'].numpy()"
      ],
      "execution_count": 10,
      "outputs": [
        {
          "output_type": "execute_result",
          "data": {
            "text/plain": [
              "5"
            ]
          },
          "metadata": {
            "tags": []
          },
          "execution_count": 10
        }
      ]
    },
    {
      "cell_type": "code",
      "metadata": {
        "id": "Z8hNjOoudPZs",
        "outputId": "643a0f97-6a7c-4603-d412-f2ac3da0ff83",
        "colab": {
          "base_uri": "https://localhost:8080/",
          "height": 265
        }
      },
      "source": [
        "from matplotlib import pyplot as plt\n",
        "plt.imshow(example_element['pixels'].numpy(), cmap='gray', aspect='equal')\n",
        "plt.grid(False)\n",
        "_ = plt.show()"
      ],
      "execution_count": 11,
      "outputs": [
        {
          "output_type": "display_data",
          "data": {
            "image/png": "[encoded data removed]",
            "text/plain": [
              "<Figure size 432x288 with 1 Axes>"
            ]
          },
          "metadata": {
            "tags": [],
            "needs_background": "light"
          }
        }
      ]
    },
    {
      "cell_type": "markdown",
      "metadata": {
        "id": "GROLYE8uetac"
      },
      "source": [
        "#### Exploring heterogeneity in federated data"
      ]
    },
    {
      "cell_type": "code",
      "metadata": {
        "id": "HRU49lc8dS3e",
        "outputId": "bdf73b26-8a2d-4d21-b807-9422b833f276",
        "colab": {
          "base_uri": "https://localhost:8080/",
          "height": 151
        }
      },
      "source": [
        "## Example MNIST digits for one client\n",
        "figure = plt.figure(figsize=(20, 4))\n",
        "j = 0\n",
        "\n",
        "for example in example_dataset.take(40):\n",
        "  plt.subplot(4, 10, j+1)\n",
        "  plt.imshow(example['pixels'].numpy(), cmap='gray', aspect='equal')\n",
        "  plt.axis('off')\n",
        "  j += 1"
      ],
      "execution_count": 12,
      "outputs": [
        {
          "output_type": "display_data",
          "data": {
            "image/png": "[encoded data removed]",
            "text/plain": [
              "<Figure size 1440x288 with 40 Axes>"
            ]
          },
          "metadata": {
            "tags": [],
            "needs_background": "light"
          }
        }
      ]
    },
    {
      "cell_type": "code",
      "metadata": {
        "id": "qgrLyjnQe7hR",
        "outputId": "19b98d4f-d7c4-4b0e-befa-d5a1f3577f8d",
        "colab": {
          "base_uri": "https://localhost:8080/",
          "height": 430
        }
      },
      "source": [
        "# Number of examples per layer for a sample of clients\n",
        "f = plt.figure(figsize=(12,7))\n",
        "f.suptitle('Label Counts for a Sample of Clients')\n",
        "for i in range(3):\n",
        "  client_dataset = emnist_train.create_tf_dataset_for_client(\n",
        "      emnist_train.client_ids[i])\n",
        "  plot_data = collections.defaultdict(list)\n",
        "  for example in client_dataset:\n",
        "    # Append counts individually per label to make plots\n",
        "    # more colorful instead of one color per plot.\n",
        "    label = example['label'].numpy()\n",
        "    plot_data[label].append(label)\n",
        "  plt.subplot(1,3,i+1)\n",
        "  plt.title('Client {}'.format(i))\n",
        "  for j in range(10):\n",
        "    plt.hist(      \n",
        "            plot_data[j],\n",
        "            density=False,\n",
        "            bins =[0,1,2,3,4,5,6,7,8,9,10]\n",
        "        )\n",
        "    "
      ],
      "execution_count": 14,
      "outputs": [
        {
          "output_type": "display_data",
          "data": {
            "image/png": "[encoded data removed]",
            "text/plain": [
              "<Figure size 864x504 with 3 Axes>"
            ]
          },
          "metadata": {
            "tags": [],
            "needs_background": "light"
          }
        }
      ]
    },
    {
      "cell_type": "code",
      "metadata": {
        "id": "Jj3fQwTJiXu7",
        "outputId": "77e87b33-9182-49d7-91fb-838a499e3b26",
        "colab": {
          "base_uri": "https://localhost:8080/",
          "height": 784
        }
      },
      "source": [
        "# Each client has different mean images, meaning each client will be nudging\n",
        "# the model in their own directions locally.\n",
        "\n",
        "for i in range(3):\n",
        "  client_dataset = emnist_train.create_tf_dataset_for_client(\n",
        "      emnist_train.client_ids[i])\n",
        "  plot_data = collections.defaultdict(list)\n",
        "  for example in client_dataset:\n",
        "    plot_data[example['label'].numpy()].append(example['pixels'].numpy())\n",
        "  f = plt.figure(i, figsize=(12,5))\n",
        "  \n",
        "  for j in range(10):\n",
        "    mean_img = np.mean(plot_data[j],0)\n",
        "    plt.subplot(2, 5, j+1)\n",
        "    plt.imshow(mean_img.reshape((28,28)))\n",
        "    plt.axis('off')"
      ],
      "execution_count": 18,
      "outputs": [
        {
          "output_type": "display_data",
          "data": {
            "image/png": "[encoded data removed]",
            "text/plain": [
              "<Figure size 864x360 with 10 Axes>"
            ]
          },
          "metadata": {
            "tags": [],
            "needs_background": "light"
          }
        },
        {
          "output_type": "display_data",
          "data": {
            "image/png": "[encoded data removed]",
            "text/plain": [
              "<Figure size 864x360 with 10 Axes>"
            ]
          },
          "metadata": {
            "tags": [],
            "needs_background": "light"
          }
        },
        {
          "output_type": "display_data",
          "data": {
            "image/png": "[encoded data removed]",
            "text/plain": [
              "<Figure size 864x360 with 10 Axes>"
            ]
          },
          "metadata": {
            "tags": [],
            "needs_background": "light"
          }
        }
      ]
    },
    {
      "cell_type": "markdown",
      "metadata": {
        "id": "PBMODHkKmdhS"
      },
      "source": [
        "#### Preprocessing the input data\n",
        "1. flatten `28x28` image into `784`-element arrays\n",
        "2. shuffle the individual examples\n",
        "3. organize the examples into batches and rename the features from `pixels` and `label` to `x` and `y` for use with Keras.\n",
        "4. `repeat` over the data set to run several epochs."
      ]
    },
    {
      "cell_type": "code",
      "metadata": {
        "id": "agjAhqdlmaNs"
      },
      "source": [
        "NUM_CLIENTS = 10\n",
        "NUM_EPOCHS = 5\n",
        "BATCH_SIZE = 20\n",
        "SHUFFLE_BUFFER = 100\n",
        "PREFETCH_BUFFER = 10\n",
        "\n",
        "def preprocess(dataset):\n",
        "\n",
        "  def batch_format_fn(element):\n",
        "    \"\"\"Flatten a batch `pixels` and return the features as an `OrderedDict`.\"\"\"\n",
        "    return collections.OrderedDict(\n",
        "        x=tf.reshape(element['pixels'], [-1, 784]),\n",
        "        y=tf.reshape(element['label'], [-1, 1]))\n",
        "\n",
        "  return dataset.repeat(NUM_EPOCHS).shuffle(SHUFFLE_BUFFER).batch(\n",
        "      BATCH_SIZE).map(batch_format_fn).prefetch(PREFETCH_BUFFER)"
      ],
      "execution_count": null,
      "outputs": []
    },
    {
      "cell_type": "code",
      "metadata": {
        "id": "JDd8nTc_l09A",
        "outputId": "c991b374-b409-45f0-91a9-f37f22ca65e3",
        "colab": {
          "base_uri": "https://localhost:8080/",
          "height": 476
        }
      },
      "source": [
        "preprocessed_example_dataset = preprocess(example_dataset)\n",
        "\n",
        "sample_batch = tf.nest.map_structure(lambda x: x.numpy(),\n",
        "                                     next(iter(preprocessed_example_dataset)))\n",
        "\n",
        "sample_batch"
      ],
      "execution_count": 19,
      "outputs": [
        {
          "output_type": "execute_result",
          "data": {
            "text/plain": [
              "OrderedDict([('x', array([[1., 1., 1., ..., 1., 1., 1.],\n",
              "                     [1., 1., 1., ..., 1., 1., 1.],\n",
              "                     [1., 1., 1., ..., 1., 1., 1.],\n",
              "                     ...,\n",
              "                     [1., 1., 1., ..., 1., 1., 1.],\n",
              "                     [1., 1., 1., ..., 1., 1., 1.],\n",
              "                     [1., 1., 1., ..., 1., 1., 1.]], dtype=float32)),\n",
              "             ('y', array([[0],\n",
              "                     [4],\n",
              "                     [0],\n",
              "                     [2],\n",
              "                     [8],\n",
              "                     [1],\n",
              "                     [9],\n",
              "                     [6],\n",
              "                     [6],\n",
              "                     [0],\n",
              "                     [3],\n",
              "                     [6],\n",
              "                     [9],\n",
              "                     [6],\n",
              "                     [6],\n",
              "                     [0],\n",
              "                     [2],\n",
              "                     [8],\n",
              "                     [1],\n",
              "                     [9]], dtype=int32))])"
            ]
          },
          "metadata": {
            "tags": []
          },
          "execution_count": 19
        }
      ]
    },
    {
      "cell_type": "markdown",
      "metadata": {
        "id": "AB1mvbI6JR6o"
      },
      "source": [
        "Construct a list of datasets from the given set of users as an input to a round of training or evaluation."
      ]
    },
    {
      "cell_type": "code",
      "metadata": {
        "id": "27biMIRRugP7"
      },
      "source": [
        "def make_federated_data(client_data, client_ids):\n",
        "  return [\n",
        "          preprocess(client_data.create_tf_dataset_for_client(x))\n",
        "          for x in client_ids\n",
        "  ]"
      ],
      "execution_count": null,
      "outputs": []
    },
    {
      "cell_type": "code",
      "metadata": {
        "id": "zgmdUpMaJ3iK"
      },
      "source": [
        "sample_clients = emnist_train.client_ids[0:NUM_CLIENTS]\n",
        "\n",
        "federated_train_data = make_federated_data(emnist_train, sample_clients)\n",
        "\n",
        "print('Number of client datasets: {l}'.format(l=len(federated_train_data)))\n",
        "print('First dataset: {d}'.format(d=federated_train_data[0]))"
      ],
      "execution_count": null,
      "outputs": []
    },
    {
      "cell_type": "markdown",
      "metadata": {
        "id": "3E5AYcR2S87_"
      },
      "source": [
        "#### Creating a model with Keras"
      ]
    },
    {
      "cell_type": "code",
      "metadata": {
        "id": "4qVtYxwfTADd"
      },
      "source": [
        "def create_keras_model():\n",
        "  return tf.keras.models.Seauential([\n",
        "                                     tf.keras.layers.Input(shape=(784,)),\n",
        "                                     tf.keras.layers.Dense(10, kernel_intializer='zeros'),\n",
        "                                     tf.keras.layers.Softmax()\n",
        "  ])"
      ],
      "execution_count": null,
      "outputs": []
    },
    {
      "cell_type": "code",
      "metadata": {
        "id": "EMKb7DJWW4B7"
      },
      "source": [
        "def model_fn():\n",
        "  keras_model = create_keras_model(\n",
        "      keras_model,\n",
        "      input_spec = preprocessed_example_dataset.element_spec,\n",
        "      loss = tf.keras.losses.SparseCategorialCrossentropy(),\n",
        "      metrics = [tf.keras.metrics.SparseCategoricalAccuracy()]\n",
        "  )"
      ],
      "execution_count": null,
      "outputs": []
    },
    {
      "cell_type": "markdown",
      "metadata": {
        "id": "hTzKJi83hGit"
      },
      "source": [
        "#### Training the model on federated data\n",
        "\n",
        "_client_optimizer_ is only used to compute local model updates on each client.\n",
        "_server_optimizer_ applies the averaged update to the global model at the server."
      ]
    },
    {
      "cell_type": "code",
      "metadata": {
        "id": "QFiasNGJjSFR"
      },
      "source": [
        "iterative_process = tff.learning.build_federated_averaging_process(\n",
        "    model_fn,\n",
        "    client_optimizer_fn = lambda: tf.keras.optimizers.SGD(learning_rate=0.02),\n",
        "    server_optimizer_fn = lambda: tf.keras.optimizers.SGD(learning_rate=1.0)\n",
        ")"
      ],
      "execution_count": null,
      "outputs": []
    }
  ]
}